{
 "cells": [
  {
   "cell_type": "code",
   "execution_count": 1,
   "id": "af1c9ede",
   "metadata": {},
   "outputs": [],
   "source": [
    "import mdp_alvaro as mdp\n",
    "from hiive.mdptoolbox import example as ex\n",
    "import numpy as np\n",
    "import pandas as pd\n",
    "np.random.seed(19839526)\n",
    "P, R = ex.forest(S=20, r1=4, r2=2, p=0.11, is_sparse=False)\n",
    "solution = (0, 1, 0, 0, 0, 0, 0, 0, 0, 0, 0, 0, 0, 0, 0, 0, 0, 0, 0, 0)"
   ]
  },
  {
   "cell_type": "code",
   "execution_count": 2,
   "id": "e2da849f",
   "metadata": {},
   "outputs": [
    {
     "name": "stdout",
     "output_type": "stream",
     "text": [
      "     Gamma  Error      Time  Iterations\n",
      "1    0.999      0  0.008976          72\n",
      "2    0.998      0  0.003989          71\n",
      "3    0.997      1  0.003989          71\n",
      "4    0.996      1  0.003988          70\n",
      "5    0.995      1  0.003989          70\n",
      "..     ...    ...       ...         ...\n",
      "995  0.005     17  0.000000           1\n",
      "996  0.004     17  0.000000           1\n",
      "997  0.003     17  0.000000           1\n",
      "998  0.002     17  0.000000           1\n",
      "999  0.001     17  0.000000           1\n",
      "\n",
      "[999 rows x 4 columns]\n"
     ]
    }
   ],
   "source": [
    "data = [(0,0,0,0)]\n",
    "\n",
    "for g in range(999):\n",
    "    vi = mdp.ValueIteration(P, R, gamma=0.999-g/1000,epsilon=0.001, max_iter=R.shape[0]**R.shape[1])\n",
    "    vi.run()\n",
    "    data.append((0.999-g/1000,(np.array(vi.policy) != np.array(solution)).sum(), vi.time,vi.iter))  \n",
    "viAnalisys = pd.DataFrame(data, columns=['Gamma','Error', 'Time', 'Iterations'])\n",
    "viAnalisys = viAnalisys.iloc[1: , :]\n",
    "print(viAnalisys )\n",
    "viAnalisys.to_csv(\"Forest_viAnalisys.csv\")"
   ]
  },
  {
   "cell_type": "code",
   "execution_count": 3,
   "id": "b62c32be",
   "metadata": {},
   "outputs": [
    {
     "name": "stdout",
     "output_type": "stream",
     "text": [
      "     Gamma  Error      Time  Iterations\n",
      "1    0.999      0  1.421080          18\n",
      "2    0.998      0  1.001805          18\n",
      "3    0.997      1  0.609191          17\n",
      "4    0.996      1  0.464724          17\n",
      "5    0.995      1  0.351183          17\n",
      "..     ...    ...       ...         ...\n",
      "995  0.005     17  0.000000           1\n",
      "996  0.004     17  0.000000           1\n",
      "997  0.003     17  0.000000           1\n",
      "998  0.002     17  0.000000           1\n",
      "999  0.001     17  0.000000           1\n",
      "\n",
      "[999 rows x 4 columns]\n"
     ]
    }
   ],
   "source": [
    "data = [(0,0,0,0)]\n",
    "for g in range(999):\n",
    "    pi = mdp.PolicyIteration(P, R, gamma=0.999-g/1000, policy0=None,eval_type=1, max_iter=R.shape[0]**R.shape[1])\n",
    "    pi.run()\n",
    "    data.append((0.999-g/1000,(np.array(pi.policy) != np.array(solution)).sum(), pi.time,pi.iter))  \n",
    "piAnalisys = pd.DataFrame(data, columns=['Gamma','Error', 'Time', 'Iterations'])\n",
    "piAnalisys = piAnalisys.iloc[1: , :]\n",
    "print(piAnalisys )\n",
    "piAnalisys.to_csv(\"Forest_piAnalisys.csv\")"
   ]
  },
  {
   "cell_type": "code",
   "execution_count": 4,
   "id": "cba91654",
   "metadata": {},
   "outputs": [
    {
     "ename": "KeyboardInterrupt",
     "evalue": "",
     "output_type": "error",
     "traceback": [
      "\u001b[1;31m---------------------------------------------------------------------------\u001b[0m",
      "\u001b[1;31mKeyboardInterrupt\u001b[0m                         Traceback (most recent call last)",
      "\u001b[1;32m~\\AppData\\Local\\Temp\\ipykernel_15196\\2248564621.py\u001b[0m in \u001b[0;36m<module>\u001b[1;34m\u001b[0m\n\u001b[0;32m      3\u001b[0m \u001b[1;32mfor\u001b[0m \u001b[0mg\u001b[0m \u001b[1;32min\u001b[0m \u001b[0mrange\u001b[0m\u001b[1;33m(\u001b[0m\u001b[1;36m1000\u001b[0m\u001b[1;33m)\u001b[0m\u001b[1;33m:\u001b[0m\u001b[1;33m\u001b[0m\u001b[1;33m\u001b[0m\u001b[0m\n\u001b[0;32m      4\u001b[0m     \u001b[0mql\u001b[0m \u001b[1;33m=\u001b[0m \u001b[0mmdp\u001b[0m\u001b[1;33m.\u001b[0m\u001b[0mQLearning\u001b[0m\u001b[1;33m(\u001b[0m \u001b[0mtransitions\u001b[0m\u001b[1;33m=\u001b[0m\u001b[0mP\u001b[0m\u001b[1;33m,\u001b[0m \u001b[0mreward\u001b[0m\u001b[1;33m=\u001b[0m\u001b[0mR\u001b[0m\u001b[1;33m,\u001b[0m \u001b[0mepsilon\u001b[0m\u001b[1;33m=\u001b[0m\u001b[1;36m1.0\u001b[0m\u001b[1;33m,\u001b[0m \u001b[0mepsilon_max\u001b[0m\u001b[1;33m=\u001b[0m\u001b[1;36m2\u001b[0m\u001b[1;33m,\u001b[0m \u001b[0mepsilon_decay\u001b[0m\u001b[1;33m=\u001b[0m\u001b[1;36m1.0001\u001b[0m\u001b[1;33m,\u001b[0m\u001b[0mgamma\u001b[0m\u001b[1;33m=\u001b[0m\u001b[1;36m0.999\u001b[0m\u001b[1;33m,\u001b[0m \u001b[0mn_iter\u001b[0m\u001b[1;33m=\u001b[0m\u001b[1;36m10000\u001b[0m\u001b[1;33m*\u001b[0m\u001b[1;33m(\u001b[0m\u001b[0mg\u001b[0m\u001b[1;33m+\u001b[0m\u001b[1;36m1\u001b[0m\u001b[1;33m)\u001b[0m\u001b[1;33m)\u001b[0m\u001b[1;33m\u001b[0m\u001b[1;33m\u001b[0m\u001b[0m\n\u001b[1;32m----> 5\u001b[1;33m     \u001b[0mql\u001b[0m\u001b[1;33m.\u001b[0m\u001b[0mrun\u001b[0m\u001b[1;33m(\u001b[0m\u001b[1;33m)\u001b[0m\u001b[1;33m\u001b[0m\u001b[1;33m\u001b[0m\u001b[0m\n\u001b[0m\u001b[0;32m      6\u001b[0m     \u001b[0mdata\u001b[0m\u001b[1;33m.\u001b[0m\u001b[0mappend\u001b[0m\u001b[1;33m(\u001b[0m\u001b[1;33m(\u001b[0m\u001b[1;33m(\u001b[0m\u001b[0mnp\u001b[0m\u001b[1;33m.\u001b[0m\u001b[0marray\u001b[0m\u001b[1;33m(\u001b[0m\u001b[0mql\u001b[0m\u001b[1;33m.\u001b[0m\u001b[0mpolicy\u001b[0m\u001b[1;33m)\u001b[0m \u001b[1;33m!=\u001b[0m \u001b[0mnp\u001b[0m\u001b[1;33m.\u001b[0m\u001b[0marray\u001b[0m\u001b[1;33m(\u001b[0m\u001b[0msolution\u001b[0m\u001b[1;33m)\u001b[0m\u001b[1;33m)\u001b[0m\u001b[1;33m.\u001b[0m\u001b[0msum\u001b[0m\u001b[1;33m(\u001b[0m\u001b[1;33m)\u001b[0m\u001b[1;33m,\u001b[0m \u001b[0mql\u001b[0m\u001b[1;33m.\u001b[0m\u001b[0mtime\u001b[0m\u001b[1;33m,\u001b[0m\u001b[1;36m10000\u001b[0m\u001b[1;33m*\u001b[0m\u001b[1;33m(\u001b[0m\u001b[0mg\u001b[0m\u001b[1;33m+\u001b[0m\u001b[1;36m1\u001b[0m\u001b[1;33m)\u001b[0m\u001b[1;33m)\u001b[0m\u001b[1;33m)\u001b[0m\u001b[1;33m\u001b[0m\u001b[1;33m\u001b[0m\u001b[0m\n\u001b[0;32m      7\u001b[0m \u001b[0mqlAnalisys\u001b[0m \u001b[1;33m=\u001b[0m \u001b[0mpd\u001b[0m\u001b[1;33m.\u001b[0m\u001b[0mDataFrame\u001b[0m\u001b[1;33m(\u001b[0m\u001b[0mdata\u001b[0m\u001b[1;33m,\u001b[0m \u001b[0mcolumns\u001b[0m\u001b[1;33m=\u001b[0m\u001b[1;33m[\u001b[0m\u001b[1;34m'Error'\u001b[0m\u001b[1;33m,\u001b[0m \u001b[1;34m'Time'\u001b[0m\u001b[1;33m,\u001b[0m \u001b[1;34m'Iterations'\u001b[0m\u001b[1;33m]\u001b[0m\u001b[1;33m)\u001b[0m\u001b[1;33m\u001b[0m\u001b[1;33m\u001b[0m\u001b[0m\n",
      "\u001b[1;32m~\\Documents\\Documentos de Estudios\\MSc Georgia Tech\\7641 - Machine Learning\\Project 4\\mdp_alvaro.py\u001b[0m in \u001b[0;36mrun\u001b[1;34m(self)\u001b[0m\n\u001b[0;32m   1192\u001b[0m             \u001b[0mv\u001b[0m \u001b[1;33m=\u001b[0m \u001b[0mself\u001b[0m\u001b[1;33m.\u001b[0m\u001b[0mQ\u001b[0m\u001b[1;33m.\u001b[0m\u001b[0mmax\u001b[0m\u001b[1;33m(\u001b[0m\u001b[0maxis\u001b[0m\u001b[1;33m=\u001b[0m\u001b[1;36m1\u001b[0m\u001b[1;33m)\u001b[0m\u001b[1;33m\u001b[0m\u001b[1;33m\u001b[0m\u001b[0m\n\u001b[0;32m   1193\u001b[0m             \u001b[0mself\u001b[0m\u001b[1;33m.\u001b[0m\u001b[0mV\u001b[0m \u001b[1;33m=\u001b[0m \u001b[0mv\u001b[0m\u001b[1;33m\u001b[0m\u001b[1;33m\u001b[0m\u001b[0m\n\u001b[1;32m-> 1194\u001b[1;33m             \u001b[0mp\u001b[0m \u001b[1;33m=\u001b[0m \u001b[0mself\u001b[0m\u001b[1;33m.\u001b[0m\u001b[0mQ\u001b[0m\u001b[1;33m.\u001b[0m\u001b[0margmax\u001b[0m\u001b[1;33m(\u001b[0m\u001b[0maxis\u001b[0m\u001b[1;33m=\u001b[0m\u001b[1;36m1\u001b[0m\u001b[1;33m)\u001b[0m\u001b[1;33m\u001b[0m\u001b[1;33m\u001b[0m\u001b[0m\n\u001b[0m\u001b[0;32m   1195\u001b[0m             \u001b[0mself\u001b[0m\u001b[1;33m.\u001b[0m\u001b[0mpolicy\u001b[0m \u001b[1;33m=\u001b[0m \u001b[0mp\u001b[0m\u001b[1;33m\u001b[0m\u001b[1;33m\u001b[0m\u001b[0m\n\u001b[0;32m   1196\u001b[0m \u001b[1;33m\u001b[0m\u001b[0m\n",
      "\u001b[1;31mKeyboardInterrupt\u001b[0m: "
     ]
    }
   ],
   "source": [
    "data = [(0,0,0)]\n",
    "\n",
    "for g in range(1000):\n",
    "    ql = mdp.QLearning( transitions=P, reward=R, epsilon=1.0, epsilon_max=2, epsilon_decay=1.0001,gamma=0.999, n_iter=10000*(g+1))\n",
    "    ql.run()\n",
    "    data.append(((np.array(ql.policy) != np.array(solution)).sum(), ql.time,10000*(g+1)))  \n",
    "qlAnalisys = pd.DataFrame(data, columns=['Error', 'Time', 'Iterations'])\n",
    "qlAnalisys = qlAnalisys.iloc[1: , :]\n",
    "print(qlAnalisys )\n",
    "qlAnalisys.to_csv(\"Forest_qlAnalisys.csv\")"
   ]
  },
  {
   "cell_type": "code",
   "execution_count": 5,
   "id": "672e9dac",
   "metadata": {},
   "outputs": [
    {
     "data": {
      "text/plain": [
       "226"
      ]
     },
     "execution_count": 5,
     "metadata": {},
     "output_type": "execute_result"
    }
   ],
   "source": [
    "g"
   ]
  },
  {
   "cell_type": "code",
   "execution_count": 6,
   "id": "5ddd694e",
   "metadata": {},
   "outputs": [
    {
     "name": "stdout",
     "output_type": "stream",
     "text": [
      "     Error        Time  Iterations\n",
      "1       16    0.803678       10000\n",
      "2       15    1.539256       20000\n",
      "3       16    2.211404       30000\n",
      "4       13    3.140727       40000\n",
      "5       14    3.681268       50000\n",
      "..     ...         ...         ...\n",
      "222      8  563.105148     2220000\n",
      "223      8  568.952978     2230000\n",
      "224      8  565.108729     2240000\n",
      "225      8  544.639947     2250000\n",
      "226      8  543.956472     2260000\n",
      "\n",
      "[226 rows x 3 columns]\n"
     ]
    }
   ],
   "source": [
    "qlAnalisys = pd.DataFrame(data, columns=['Error', 'Time', 'Iterations'])\n",
    "qlAnalisys = qlAnalisys.iloc[1: , :]\n",
    "print(qlAnalisys )\n",
    "qlAnalisys.to_csv(\"Forest_qlAnalisys.csv\")"
   ]
  },
  {
   "cell_type": "code",
   "execution_count": null,
   "id": "b17a1988",
   "metadata": {},
   "outputs": [],
   "source": []
  }
 ],
 "metadata": {
  "kernelspec": {
   "display_name": "Python 3 (ipykernel)",
   "language": "python",
   "name": "python3"
  },
  "language_info": {
   "codemirror_mode": {
    "name": "ipython",
    "version": 3
   },
   "file_extension": ".py",
   "mimetype": "text/x-python",
   "name": "python",
   "nbconvert_exporter": "python",
   "pygments_lexer": "ipython3",
   "version": "3.8.13"
  }
 },
 "nbformat": 4,
 "nbformat_minor": 5
}
