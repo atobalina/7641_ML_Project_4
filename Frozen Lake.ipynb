{
 "cells": [
  {
   "cell_type": "code",
   "execution_count": 1,
   "id": "6668b031",
   "metadata": {},
   "outputs": [],
   "source": [
    "import numpy as np\n",
    "import pandas as pd\n",
    "import gymnasium as gym\n",
    "import re\n",
    "from gymnasium.envs.toy_text.frozen_lake import generate_random_map, FrozenLakeEnv\n",
    "import pygame\n",
    "import matplotlib.pyplot as plt\n",
    "import mdp_alvaro as mdp\n",
    "from hiive.mdptoolbox import example as ex"
   ]
  },
  {
   "cell_type": "code",
   "execution_count": 2,
   "id": "c6a2ac8e",
   "metadata": {},
   "outputs": [],
   "source": [
    "# Important Links\n",
    "# https://github.com/hiive/hiivemdptoolbox\n",
    "# https://github.com/openai/gym\n",
    "# https://gymnasium.farama.org/environments/toy_text/frozen_lake/"
   ]
  },
  {
   "cell_type": "code",
   "execution_count": 3,
   "id": "230af069",
   "metadata": {},
   "outputs": [],
   "source": [
    "np.random.seed(19839526)\n",
    "frozen_lake = generate_random_map(20)\n",
    "env = FrozenLakeEnv(desc=frozen_lake, is_slippery=True,render_mode=\"ansi\")\n",
    "env = env.unwrapped\n",
    "desc = env.unwrapped.desc"
   ]
  },
  {
   "cell_type": "code",
   "execution_count": 4,
   "id": "eb4867bd",
   "metadata": {},
   "outputs": [
    {
     "data": {
      "text/plain": [
       "Discrete(4)"
      ]
     },
     "execution_count": 4,
     "metadata": {},
     "output_type": "execute_result"
    }
   ],
   "source": [
    "env.action_space"
   ]
  },
  {
   "cell_type": "code",
   "execution_count": 5,
   "id": "ba446ab9",
   "metadata": {},
   "outputs": [
    {
     "data": {
      "text/plain": [
       "Discrete(400)"
      ]
     },
     "execution_count": 5,
     "metadata": {},
     "output_type": "execute_result"
    }
   ],
   "source": [
    "env.observation_space"
   ]
  },
  {
   "cell_type": "code",
   "execution_count": 6,
   "id": "49e5f2ca",
   "metadata": {},
   "outputs": [],
   "source": [
    "# Got most of the code for this cell and the next from https://github.com/hiive/hiivemdptoolbox/blob/master/hiive/mdptoolbox/openai.py\n",
    "transitions = env.P\n",
    "actions = int(re.findall(r'\\d+', str(env.action_space))[0])\n",
    "states = int(re.findall(r'\\d+', str(env.observation_space))[0])\n",
    "P = np.zeros((actions, states, states))\n",
    "R = np.zeros((states, actions))\n",
    "#print(P)"
   ]
  },
  {
   "cell_type": "code",
   "execution_count": 7,
   "id": "272c7dd3",
   "metadata": {},
   "outputs": [],
   "source": [
    "for state in range(states):\n",
    "    for action in range(actions):\n",
    "         for i in range(len(transitions[state][action])):\n",
    "             tran_prob = transitions[state][action][i][0]\n",
    "             state_ = transitions[state][action][i][1]\n",
    "             R[state][action] += tran_prob*transitions[state][action][i][2]\n",
    "             P[action, state, state_] += tran_prob"
   ]
  },
  {
   "cell_type": "code",
   "execution_count": 8,
   "id": "9359a794",
   "metadata": {},
   "outputs": [
    {
     "data": {
      "text/plain": [
       "['SFFHFFHFFFFFFFFFFFFF',\n",
       " 'FHFFFFFFFFHFFHHFFFFF',\n",
       " 'FFFFFHHFFHFFHHFFFHFH',\n",
       " 'FFHFFFHFFFFFFFHHFFFF',\n",
       " 'FFHFFFFFFFFFFFFHFFFF',\n",
       " 'HFFHFFHFFFFFHFFFHFFF',\n",
       " 'FHFFFFHHFFFHFHFFFFFF',\n",
       " 'FFFFFFHFFFFFFFFFFHFH',\n",
       " 'FFFFFFHHHHFFFHHHFFFF',\n",
       " 'HHFFFFFFFFFFFFFFFFFF',\n",
       " 'FFHHFFFFHHFFFFFFFFFF',\n",
       " 'FFHFFFFFFFFFFFFFHFFF',\n",
       " 'FHFFHFFFFFHFFFFFFFFF',\n",
       " 'HFFFFFFFFFFFHFFFFFFF',\n",
       " 'FFFHHHFFFFFFHHFFHFHF',\n",
       " 'FFFFFFFHFFFFFFHFFFFF',\n",
       " 'FFHHFHFFFFFFFFFFHHFF',\n",
       " 'HFFHFFHFFFFHFFHFFFHF',\n",
       " 'FFFFFFFHFFHFFFFFFFFF',\n",
       " 'FFFFFFFFFFFFFFFFFFFG']"
      ]
     },
     "execution_count": 8,
     "metadata": {},
     "output_type": "execute_result"
    }
   ],
   "source": [
    "frozen_lake"
   ]
  },
  {
   "cell_type": "code",
   "execution_count": 9,
   "id": "90005464",
   "metadata": {},
   "outputs": [],
   "source": [
    "def colors():\n",
    "    return {\n",
    "        b'S': 'green',\n",
    "        b'F': 'skyblue',\n",
    "        b'H': 'darkblue',\n",
    "        b'G': 'gold',\n",
    "    }\n",
    "\n",
    "def directions():\n",
    "    return {\n",
    "        3: '⬆',\n",
    "        2: '➡',\n",
    "        1: '⬇',\n",
    "        0: '⬅'\n",
    "    }\n",
    "def show_map(title,  map_desc, color_map):\n",
    "    fig = plt.figure()\n",
    "    ax = fig.add_subplot(111, xlim=(0, map_desc.shape[1]), ylim=(0, map_desc.shape[0]))\n",
    "    font_size = 'x-large'\n",
    "    if map_desc.shape[1] > 16:\n",
    "        font_size = 'small'\n",
    "    plt.title(title)\n",
    "    for i in range(map_desc.shape[0]):\n",
    "        for j in range(map_desc.shape[1]):\n",
    "            y = map_desc.shape[0] - i - 1\n",
    "            x = j\n",
    "            p = plt.Rectangle([x, y], 1, 1)\n",
    "            p.set_facecolor(color_map[map_desc[i,j]])   \n",
    "            plt.axis('off')\n",
    "            ax.add_patch(p)\n",
    "    plt.xlim((0, map_desc.shape[1]))\n",
    "    plt.ylim((0, map_desc.shape[0]))\n",
    "    plt.tight_layout()\n",
    "    plt.show()\n",
    "\n",
    "    return (plt)\n",
    "\n",
    "def show_policy_map(title, policy, map_desc, color_map, direction_map):\n",
    "    fig = plt.figure()\n",
    "    ax = fig.add_subplot(111, xlim=(0, policy.shape[1]), ylim=(0, policy.shape[0]))\n",
    "    font_size = 'x-large'\n",
    "    if policy.shape[1] > 16:\n",
    "        font_size = 'small'\n",
    "    plt.title(title)\n",
    "    for i in range(policy.shape[0]):\n",
    "        for j in range(policy.shape[1]):\n",
    "            y = policy.shape[0] - i - 1\n",
    "            x = j\n",
    "            p = plt.Rectangle([x, y], 1, 1)\n",
    "            p.set_facecolor(color_map[map_desc[i,j]])\n",
    "            ax.add_patch(p)\n",
    "\n",
    "            text = ax.text(x+0.5, y+0.5, direction_map[policy[i, j]], weight='bold', size=font_size,\n",
    "                           horizontalalignment='center', verticalalignment='center', color='w')\n",
    "            \n",
    "\n",
    "    plt.axis('off')\n",
    "    plt.xlim((0, policy.shape[1]))\n",
    "    plt.ylim((0, policy.shape[0]))\n",
    "    plt.tight_layout()\n",
    "    plt.show()\n",
    "    #plt.savefig(title+str('.png'))\n",
    "    #plt.close()\n",
    "\n",
    "    return (plt)"
   ]
  },
  {
   "cell_type": "code",
   "execution_count": 10,
   "id": "cc59c4e4",
   "metadata": {},
   "outputs": [
    {
     "data": {
      "text/plain": [
       "b'H'"
      ]
     },
     "execution_count": 10,
     "metadata": {},
     "output_type": "execute_result"
    }
   ],
   "source": [
    "desc[1,1]"
   ]
  },
  {
   "cell_type": "code",
   "execution_count": 11,
   "id": "362f9926",
   "metadata": {},
   "outputs": [
    {
     "data": {
      "image/png": "[encoded data removed]",
      "text/plain": [
       "<Figure size 640x480 with 1 Axes>"
      ]
     },
     "metadata": {},
     "output_type": "display_data"
    },
    {
     "name": "stdout",
     "output_type": "stream",
     "text": [
      "1.0\n"
     ]
    }
   ],
   "source": [
    "show_map(\"Blank Map\",  desc, colors())\n",
    "print(P[3,3,3])"
   ]
  },
  {
   "cell_type": "code",
   "execution_count": 12,
   "id": "1b7c20f5",
   "metadata": {},
   "outputs": [
    {
     "data": {
      "image/png": "[encoded data removed]",
      "text/plain": [
       "<Figure size 640x480 with 1 Axes>"
      ]
     },
     "metadata": {},
     "output_type": "display_data"
    },
    {
     "data": {
      "image/png": "[encoded data removed]",
      "text/plain": [
       "<Figure size 640x480 with 1 Axes>"
      ]
     },
     "metadata": {},
     "output_type": "display_data"
    },
    {
     "name": "stdout",
     "output_type": "stream",
     "text": [
      "15.907044887542725\n",
      "4711\n",
      "65.64115619659424\n",
      "26\n",
      "1\n"
     ]
    }
   ],
   "source": [
    "vi = mdp.ValueIteration(P, R, gamma=0.999999,epsilon=0.00000001, max_iter=R.shape[0]**R.shape[1])\n",
    "vi.run()\n",
    "pi = mdp.PolicyIteration(P, R, gamma=0.999999, policy0=None,eval_type=1, max_iter=R.shape[0]**R.shape[1])\n",
    "pi.run()\n",
    "#pi2 = mdp.PolicyIteration(P, R, gamma=0.999999, policy0=None,eval_type=0, max_iter=R.shape[0]**R.shape[1])\n",
    "#pi2.run()\n",
    "show_policy_map(\"Value Iteration Policy\", np.asarray(vi.policy).reshape(desc.shape[0],desc.shape[1]), desc, colors(),directions())\n",
    "show_policy_map(\"Policy Iteration Policy\", np.asarray(pi.policy).reshape(desc.shape[0],desc.shape[1]), desc, colors(),directions())\n",
    "solutionPi = pi.policy\n",
    "solutionVi = vi.policy\n",
    "print(vi.time)\n",
    "print(vi.iter)\n",
    "print(pi.time)\n",
    "print(pi.iter)\n",
    "print((np.array(vi.policy) != np.array(pi.policy)).sum())\n",
    "#print((np.array(pi2.policy) != np.array(pi.policy)).sum())\n",
    "solution = pi.policy"
   ]
  },
  {
   "cell_type": "code",
   "execution_count": 13,
   "id": "3c43d1bc",
   "metadata": {},
   "outputs": [
    {
     "name": "stdout",
     "output_type": "stream",
     "text": [
      "     Gamma  Error      Time  Iterations\n",
      "1    0.999      6  3.993995         933\n",
      "2    0.998     15  1.873375         761\n",
      "3    0.997     19  2.938248         627\n",
      "4    0.996     26  2.638533         477\n",
      "5    0.995     29  1.153106         406\n",
      "..     ...    ...       ...         ...\n",
      "995  0.005    253  0.000000           1\n",
      "996  0.004    253  0.000000           1\n",
      "997  0.003    253  0.015621           1\n",
      "998  0.002    253  0.000000           1\n",
      "999  0.001    253  0.046861           1\n",
      "\n",
      "[999 rows x 4 columns]\n"
     ]
    }
   ],
   "source": [
    "data = [(0,0,0,0)]\n",
    "\n",
    "for g in range(999):\n",
    "    vi = mdp.ValueIteration(P, R, gamma=0.99999-g/1000,epsilon=0.0001, max_iter=R.shape[0]**R.shape[1])\n",
    "    vi.run()\n",
    "    data.append((0.999-g/1000,(np.array(vi.policy) != np.array(solution)).sum(), vi.time,vi.iter))  \n",
    "viAnalisys = pd.DataFrame(data, columns=['Gamma','Error', 'Time', 'Iterations'])\n",
    "viAnalisys = viAnalisys.iloc[1: , :]\n",
    "print(viAnalisys )\n",
    "viAnalisys.to_csv(\"FrozenLake_viAnalisys.csv\")"
   ]
  },
  {
   "cell_type": "code",
   "execution_count": null,
   "id": "1b6766b5",
   "metadata": {},
   "outputs": [],
   "source": [
    "data = [(0,0,0,0)]\n",
    "for g in range(999):\n",
    "    pi = mdp.PolicyIteration(P, R, gamma=0.99999-g/1000, policy0=None,eval_type=1, max_iter=R.shape[0]**R.shape[1])\n",
    "    pi.run()\n",
    "    data.append((0.999-g/1000,(np.array(pi.policy) != np.array(solution)).sum(), pi.time,pi.iter))  \n",
    "piAnalisys = pd.DataFrame(data, columns=['Gamma','Error', 'Time', 'Iterations'])\n",
    "piAnalisys = piAnalisys.iloc[1: , :]\n",
    "print(piAnalisys )\n",
    "piAnalisys.to_csv(\"FrozenLake_piAnalisys.csv\")"
   ]
  },
  {
   "cell_type": "code",
   "execution_count": 15,
   "id": "3cda27d0",
   "metadata": {},
   "outputs": [
    {
     "data": {
      "text/plain": [
       "69"
      ]
     },
     "execution_count": 15,
     "metadata": {},
     "output_type": "execute_result"
    }
   ],
   "source": [
    "g"
   ]
  },
  {
   "cell_type": "code",
   "execution_count": null,
   "id": "b25ac86d",
   "metadata": {},
   "outputs": [],
   "source": [
    "piAnalisys = pd.DataFrame(data, columns=['Gamma','Error', 'Time', 'Iterations'])\n",
    "piAnalisys = piAnalisys.iloc[1: , :]\n",
    "print(piAnalisys )\n",
    "piAnalisys.to_csv(\"FrozenLake_piAnalisys.csv\")"
   ]
  },
  {
   "cell_type": "code",
   "execution_count": null,
   "id": "77404c47",
   "metadata": {},
   "outputs": [],
   "source": [
    "def iter_callback_frozen_lake(s, a, s_new):\n",
    "    if P[a][s_new, s_new] < 1:\n",
    "        return False\n",
    "    else:\n",
    "        return True\n",
    "qlMax = mdp.QLearning( transitions=P, reward=R, epsilon=1.0, epsilon_max=2, epsilon_decay=1.000001,gamma=0.99999,iter_callback=iter_callback_frozen_lake, n_iter=100000000)\n",
    "qlMax.run()\n",
    "print(qlMax.Q)\n",
    "print(qlMax.policy)\n",
    "print(qlMax.time)  \n"
   ]
  },
  {
   "cell_type": "code",
   "execution_count": null,
   "id": "f3e6d105",
   "metadata": {},
   "outputs": [],
   "source": [
    "show_policy_map(\"Q Learning Policy\", np.asarray(qlMax.policy).reshape(desc.shape[0],desc.shape[1]), desc, colors(),directions())\n"
   ]
  },
  {
   "cell_type": "code",
   "execution_count": null,
   "id": "66226a27",
   "metadata": {},
   "outputs": [],
   "source": [
    "data = [(0,0,0)]\n",
    "\n",
    "for g in range(1000):\n",
    "    ql = mdp.QLearning( transitions=P, reward=R, epsilon=1.0, epsilon_max=2, epsilon_decay=1.0001,gamma=0.999, n_iter=100000*(g+1))\n",
    "    ql.run()\n",
    "    data.append(((np.array(ql.policy) != np.array(solution)).sum(), ql.time,10000*(g+1)))  \n",
    "qlAnalisys = pd.DataFrame(data, columns=['Error', 'Time', 'Iterations'])\n",
    "qlAnalisys = qlAnalisys.iloc[1: , :]\n",
    "print(qlAnalisys )\n",
    "qlAnalisys.to_csv(\"Frozen_qlAnalisys.csv\")"
   ]
  },
  {
   "cell_type": "code",
   "execution_count": null,
   "id": "b5d1785d",
   "metadata": {},
   "outputs": [],
   "source": []
  }
 ],
 "metadata": {
  "kernelspec": {
   "display_name": "Python 3 (ipykernel)",
   "language": "python",
   "name": "python3"
  },
  "language_info": {
   "codemirror_mode": {
    "name": "ipython",
    "version": 3
   },
   "file_extension": ".py",
   "mimetype": "text/x-python",
   "name": "python",
   "nbconvert_exporter": "python",
   "pygments_lexer": "ipython3",
   "version": "3.8.13"
  }
 },
 "nbformat": 4,
 "nbformat_minor": 5
}
