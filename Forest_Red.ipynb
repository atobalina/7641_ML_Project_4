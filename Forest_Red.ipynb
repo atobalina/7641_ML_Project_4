{
 "cells": [
  {
   "cell_type": "code",
   "execution_count": 1,
   "id": "af1c9ede",
   "metadata": {},
   "outputs": [],
   "source": [
    "import mdp_alvaro as mdp\n",
    "from hiive.mdptoolbox import example as ex\n",
    "import numpy as np\n",
    "import pandas as pd\n",
    "np.random.seed(19839526)\n",
    "P, R = ex.forest(S=20, r1=4, r2=2, p=0.11, is_sparse=False)\n",
    "solution = (0, 1, 0, 0, 0, 0, 0, 0, 0, 0, 0, 0, 0, 0, 0, 0, 0, 0, 0, 0)"
   ]
  },
  {
   "cell_type": "code",
   "execution_count": 2,
   "id": "e2da849f",
   "metadata": {},
   "outputs": [
    {
     "name": "stdout",
     "output_type": "stream",
     "text": [
      "    Gamma  Error      Time  Iterations\n",
      "1   0.999      0  0.015624          72\n",
      "2   0.998      2  0.000000          67\n",
      "3   0.997      3  0.040935          62\n",
      "4   0.996      4  0.005984          58\n",
      "5   0.995      5  0.005047          54\n",
      "..    ...    ...       ...         ...\n",
      "95  0.905     17  0.000000           2\n",
      "96  0.904     17  0.000000           2\n",
      "97  0.903     17  0.000000           2\n",
      "98  0.902     17  0.000000           2\n",
      "99  0.901     17  0.000000           2\n",
      "\n",
      "[99 rows x 4 columns]\n"
     ]
    }
   ],
   "source": [
    "data = [(0,0,0,0)]\n",
    "\n",
    "for g in range(99):\n",
    "    vi = mdp.ValueIteration(P, R, gamma=0.999-g/100,epsilon=0.001, max_iter=R.shape[0]**R.shape[1])\n",
    "    vi.run()\n",
    "    data.append((0.999-g/1000,(np.array(vi.policy) != np.array(solution)).sum(), vi.time,vi.iter))  \n",
    "viAnalisys = pd.DataFrame(data, columns=['Gamma','Error', 'Time', 'Iterations'])\n",
    "viAnalisys = viAnalisys.iloc[1: , :]\n",
    "print(viAnalisys )\n",
    "viAnalisys.to_csv(\"Forest_viAnalisys2.csv\")"
   ]
  },
  {
   "cell_type": "code",
   "execution_count": 3,
   "id": "b62c32be",
   "metadata": {},
   "outputs": [
    {
     "name": "stdout",
     "output_type": "stream",
     "text": [
      "    Gamma  Error      Time  Iterations\n",
      "1   0.999      0  4.094959          18\n",
      "2   0.998      2  0.438814          16\n",
      "3   0.997      3  0.219810          15\n",
      "4   0.996      4  0.085237          14\n",
      "5   0.995      5  0.108388          13\n",
      "..    ...    ...       ...         ...\n",
      "95  0.905     17  0.000997           1\n",
      "96  0.904     17  0.000000           1\n",
      "97  0.903     17  0.000000           1\n",
      "98  0.902     17  0.000000           1\n",
      "99  0.901     17  0.000000           1\n",
      "\n",
      "[99 rows x 4 columns]\n"
     ]
    }
   ],
   "source": [
    "data = [(0,0,0,0)]\n",
    "for g in range(99):\n",
    "    pi = mdp.PolicyIteration(P, R, gamma=0.999-g/100, policy0=None,eval_type=1, max_iter=R.shape[0]**R.shape[1])\n",
    "    pi.run()\n",
    "    data.append((0.999-g/1000,(np.array(pi.policy) != np.array(solution)).sum(), pi.time,pi.iter))  \n",
    "piAnalisys = pd.DataFrame(data, columns=['Gamma','Error', 'Time', 'Iterations'])\n",
    "piAnalisys = piAnalisys.iloc[1: , :]\n",
    "print(piAnalisys )\n",
    "piAnalisys.to_csv(\"Forest_piAnalisys2.csv\")"
   ]
  },
  {
   "cell_type": "code",
   "execution_count": 4,
   "id": "cba91654",
   "metadata": {},
   "outputs": [
    {
     "ename": "KeyboardInterrupt",
     "evalue": "",
     "output_type": "error",
     "traceback": [
      "\u001b[1;31m---------------------------------------------------------------------------\u001b[0m",
      "\u001b[1;31mKeyboardInterrupt\u001b[0m                         Traceback (most recent call last)",
      "\u001b[1;32m~\\AppData\\Local\\Temp\\ipykernel_19192\\3909289454.py\u001b[0m in \u001b[0;36m<module>\u001b[1;34m\u001b[0m\n\u001b[0;32m      3\u001b[0m \u001b[1;32mfor\u001b[0m \u001b[0mg\u001b[0m \u001b[1;32min\u001b[0m \u001b[0mrange\u001b[0m\u001b[1;33m(\u001b[0m\u001b[1;36m100\u001b[0m\u001b[1;33m)\u001b[0m\u001b[1;33m:\u001b[0m\u001b[1;33m\u001b[0m\u001b[1;33m\u001b[0m\u001b[0m\n\u001b[0;32m      4\u001b[0m     \u001b[0mql\u001b[0m \u001b[1;33m=\u001b[0m \u001b[0mmdp\u001b[0m\u001b[1;33m.\u001b[0m\u001b[0mQLearning\u001b[0m\u001b[1;33m(\u001b[0m \u001b[0mtransitions\u001b[0m\u001b[1;33m=\u001b[0m\u001b[0mP\u001b[0m\u001b[1;33m,\u001b[0m \u001b[0mreward\u001b[0m\u001b[1;33m=\u001b[0m\u001b[0mR\u001b[0m\u001b[1;33m,\u001b[0m \u001b[0mepsilon\u001b[0m\u001b[1;33m=\u001b[0m\u001b[1;36m1.0\u001b[0m\u001b[1;33m,\u001b[0m \u001b[0mepsilon_max\u001b[0m\u001b[1;33m=\u001b[0m\u001b[1;36m2\u001b[0m\u001b[1;33m,\u001b[0m \u001b[0mepsilon_decay\u001b[0m\u001b[1;33m=\u001b[0m\u001b[1;36m1.0001\u001b[0m\u001b[1;33m,\u001b[0m\u001b[0mgamma\u001b[0m\u001b[1;33m=\u001b[0m\u001b[1;36m0.999\u001b[0m\u001b[1;33m,\u001b[0m \u001b[0mn_iter\u001b[0m\u001b[1;33m=\u001b[0m\u001b[1;36m100000\u001b[0m\u001b[1;33m*\u001b[0m\u001b[1;33m(\u001b[0m\u001b[0mg\u001b[0m\u001b[1;33m+\u001b[0m\u001b[1;36m1\u001b[0m\u001b[1;33m)\u001b[0m\u001b[1;33m)\u001b[0m\u001b[1;33m\u001b[0m\u001b[1;33m\u001b[0m\u001b[0m\n\u001b[1;32m----> 5\u001b[1;33m     \u001b[0mql\u001b[0m\u001b[1;33m.\u001b[0m\u001b[0mrun\u001b[0m\u001b[1;33m(\u001b[0m\u001b[1;33m)\u001b[0m\u001b[1;33m\u001b[0m\u001b[1;33m\u001b[0m\u001b[0m\n\u001b[0m\u001b[0;32m      6\u001b[0m     \u001b[0mdata\u001b[0m\u001b[1;33m.\u001b[0m\u001b[0mappend\u001b[0m\u001b[1;33m(\u001b[0m\u001b[1;33m(\u001b[0m\u001b[1;33m(\u001b[0m\u001b[0mnp\u001b[0m\u001b[1;33m.\u001b[0m\u001b[0marray\u001b[0m\u001b[1;33m(\u001b[0m\u001b[0mql\u001b[0m\u001b[1;33m.\u001b[0m\u001b[0mpolicy\u001b[0m\u001b[1;33m)\u001b[0m \u001b[1;33m!=\u001b[0m \u001b[0mnp\u001b[0m\u001b[1;33m.\u001b[0m\u001b[0marray\u001b[0m\u001b[1;33m(\u001b[0m\u001b[0msolution\u001b[0m\u001b[1;33m)\u001b[0m\u001b[1;33m)\u001b[0m\u001b[1;33m.\u001b[0m\u001b[0msum\u001b[0m\u001b[1;33m(\u001b[0m\u001b[1;33m)\u001b[0m\u001b[1;33m,\u001b[0m \u001b[0mql\u001b[0m\u001b[1;33m.\u001b[0m\u001b[0mtime\u001b[0m\u001b[1;33m,\u001b[0m\u001b[1;36m10000\u001b[0m\u001b[1;33m*\u001b[0m\u001b[1;33m(\u001b[0m\u001b[0mg\u001b[0m\u001b[1;33m+\u001b[0m\u001b[1;36m1\u001b[0m\u001b[1;33m)\u001b[0m\u001b[1;33m)\u001b[0m\u001b[1;33m)\u001b[0m\u001b[1;33m\u001b[0m\u001b[1;33m\u001b[0m\u001b[0m\n\u001b[0;32m      7\u001b[0m \u001b[0mqlAnalisys\u001b[0m \u001b[1;33m=\u001b[0m \u001b[0mpd\u001b[0m\u001b[1;33m.\u001b[0m\u001b[0mDataFrame\u001b[0m\u001b[1;33m(\u001b[0m\u001b[0mdata\u001b[0m\u001b[1;33m,\u001b[0m \u001b[0mcolumns\u001b[0m\u001b[1;33m=\u001b[0m\u001b[1;33m[\u001b[0m\u001b[1;34m'Error'\u001b[0m\u001b[1;33m,\u001b[0m \u001b[1;34m'Time'\u001b[0m\u001b[1;33m,\u001b[0m \u001b[1;34m'Iterations'\u001b[0m\u001b[1;33m]\u001b[0m\u001b[1;33m)\u001b[0m\u001b[1;33m\u001b[0m\u001b[1;33m\u001b[0m\u001b[0m\n",
      "\u001b[1;32m~\\Documents\\Documentos de Estudios\\MSc Georgia Tech\\7641 - Machine Learning\\Project 4\\mdp_alvaro.py\u001b[0m in \u001b[0;36mrun\u001b[1;34m(self)\u001b[0m\n\u001b[0;32m   1154\u001b[0m             \u001b[0mprob\u001b[0m \u001b[1;33m=\u001b[0m \u001b[0mself\u001b[0m\u001b[1;33m.\u001b[0m\u001b[0mepsilon\u001b[0m\u001b[1;33m**\u001b[0m\u001b[0mself\u001b[0m\u001b[1;33m.\u001b[0m\u001b[0mQ\u001b[0m\u001b[1;33m[\u001b[0m\u001b[0ms\u001b[0m\u001b[1;33m,\u001b[0m \u001b[1;33m:\u001b[0m\u001b[1;33m]\u001b[0m\u001b[1;33m\u001b[0m\u001b[1;33m\u001b[0m\u001b[0m\n\u001b[0;32m   1155\u001b[0m             \u001b[0mprob\u001b[0m \u001b[1;33m=\u001b[0m \u001b[0mprob\u001b[0m\u001b[1;33m/\u001b[0m\u001b[0msum\u001b[0m\u001b[1;33m(\u001b[0m\u001b[0mprob\u001b[0m\u001b[1;33m)\u001b[0m\u001b[1;33m\u001b[0m\u001b[1;33m\u001b[0m\u001b[0m\n\u001b[1;32m-> 1156\u001b[1;33m             \u001b[0ma\u001b[0m \u001b[1;33m=\u001b[0m \u001b[0m_np\u001b[0m\u001b[1;33m.\u001b[0m\u001b[0mrandom\u001b[0m\u001b[1;33m.\u001b[0m\u001b[0mchoice\u001b[0m\u001b[1;33m(\u001b[0m\u001b[0mself\u001b[0m\u001b[1;33m.\u001b[0m\u001b[0mQ\u001b[0m\u001b[1;33m.\u001b[0m\u001b[0mshape\u001b[0m\u001b[1;33m[\u001b[0m\u001b[1;36m1\u001b[0m\u001b[1;33m]\u001b[0m\u001b[1;33m,\u001b[0m \u001b[1;32mNone\u001b[0m\u001b[1;33m,\u001b[0m \u001b[0mp\u001b[0m\u001b[1;33m=\u001b[0m\u001b[0mprob\u001b[0m\u001b[1;33m)\u001b[0m\u001b[1;33m\u001b[0m\u001b[1;33m\u001b[0m\u001b[0m\n\u001b[0m\u001b[0;32m   1157\u001b[0m \u001b[1;33m\u001b[0m\u001b[0m\n\u001b[0;32m   1158\u001b[0m             \u001b[1;31m#if pn < self.epsilon:\u001b[0m\u001b[1;33m\u001b[0m\u001b[1;33m\u001b[0m\u001b[1;33m\u001b[0m\u001b[0m\n",
      "\u001b[1;31mKeyboardInterrupt\u001b[0m: "
     ]
    }
   ],
   "source": [
    "data = [(0,0,0)]\n",
    "\n",
    "for g in range(100):\n",
    "    ql = mdp.QLearning( transitions=P, reward=R, epsilon=1.0, epsilon_max=2, epsilon_decay=1.0001,gamma=0.999, n_iter=100000*(g+1))\n",
    "    ql.run()\n",
    "    data.append(((np.array(ql.policy) != np.array(solution)).sum(), ql.time,10000*(g+1)))  \n",
    "qlAnalisys = pd.DataFrame(data, columns=['Error', 'Time', 'Iterations'])\n",
    "qlAnalisys = qlAnalisys.iloc[1: , :]\n",
    "print(qlAnalisys )\n",
    "qlAnalisys.to_csv(\"Forest_qlAnalisys2.csv\")"
   ]
  },
  {
   "cell_type": "code",
   "execution_count": 5,
   "id": "0f3b333b",
   "metadata": {},
   "outputs": [
    {
     "data": {
      "text/plain": [
       "41"
      ]
     },
     "execution_count": 5,
     "metadata": {},
     "output_type": "execute_result"
    }
   ],
   "source": [
    "g"
   ]
  },
  {
   "cell_type": "code",
   "execution_count": 7,
   "id": "c0fb6ee0",
   "metadata": {},
   "outputs": [
    {
     "name": "stdout",
     "output_type": "stream",
     "text": [
      "    Error          Time  Iterations\n",
      "1      13     25.413566       10000\n",
      "2      16     44.394716       20000\n",
      "3      14     71.272455       30000\n",
      "4       9     92.759725       40000\n",
      "5      10    124.014495       50000\n",
      "6      10    156.569154       60000\n",
      "7      10    177.746001       70000\n",
      "8       9    176.335580       80000\n",
      "9      10    195.152629       90000\n",
      "10     10    216.787283      100000\n",
      "11     10    241.892003      110000\n",
      "12     10    261.174957      120000\n",
      "13      9    284.325677      130000\n",
      "14      9    303.366646      140000\n",
      "15      8    323.660483      150000\n",
      "16      8    343.128081      160000\n",
      "17      9    370.746044      170000\n",
      "18      8    408.310785      180000\n",
      "19     10    489.677395      190000\n",
      "20      9    508.698923      200000\n",
      "21      8    531.384970      210000\n",
      "22     10    549.353516      220000\n",
      "23      8    576.679343      230000\n",
      "24      9    596.552137      240000\n",
      "25      9    621.888307      250000\n",
      "26      8    640.078595      260000\n",
      "27      7    674.681615      270000\n",
      "28     10    704.282541      280000\n",
      "29      9    726.282502      290000\n",
      "30      8    757.464926      300000\n",
      "31      9    775.592708      310000\n",
      "32      7    799.435480      320000\n",
      "33      9    825.155137      330000\n",
      "34      8    848.220881      340000\n",
      "35      8    876.139096      350000\n",
      "36      8    979.399971      360000\n",
      "37      8    934.745856      370000\n",
      "38      8  24093.120248      380000\n",
      "39     10    978.046214      390000\n",
      "40      8   1011.441153      400000\n",
      "41     10   1030.166005      410000\n"
     ]
    }
   ],
   "source": [
    "qlAnalisys = pd.DataFrame(data, columns=['Error', 'Time', 'Iterations'])\n",
    "qlAnalisys = qlAnalisys.iloc[1: , :]\n",
    "print(qlAnalisys )\n",
    "qlAnalisys.to_csv(\"Forest_qlAnalisys2.csv\")"
   ]
  },
  {
   "cell_type": "code",
   "execution_count": 10,
   "id": "4e8eb62d",
   "metadata": {},
   "outputs": [
    {
     "name": "stdout",
     "output_type": "stream",
     "text": [
      "(8, 2708.46981883049, 10000000)\n"
     ]
    }
   ],
   "source": [
    "ql = mdp.QLearning( transitions=P, reward=R, epsilon=1.0, epsilon_max=2, epsilon_decay=1.0001,gamma=0.999, n_iter=10000000)\n",
    "ql.run()\n",
    "print(((np.array(ql.policy) != np.array(solution)).sum(), ql.time,10000000))"
   ]
  },
  {
   "cell_type": "code",
   "execution_count": 11,
   "id": "d8740a2e",
   "metadata": {},
   "outputs": [
    {
     "data": {
      "text/plain": [
       "(0, 1, 1, 1, 1, 1, 1, 1, 1, 1, 0, 0, 0, 0, 0, 0, 0, 0, 0, 0)"
      ]
     },
     "execution_count": 11,
     "metadata": {},
     "output_type": "execute_result"
    }
   ],
   "source": [
    "ql.policy"
   ]
  },
  {
   "cell_type": "code",
   "execution_count": null,
   "id": "439fa4fd",
   "metadata": {},
   "outputs": [],
   "source": []
  }
 ],
 "metadata": {
  "kernelspec": {
   "display_name": "Python 3 (ipykernel)",
   "language": "python",
   "name": "python3"
  },
  "language_info": {
   "codemirror_mode": {
    "name": "ipython",
    "version": 3
   },
   "file_extension": ".py",
   "mimetype": "text/x-python",
   "name": "python",
   "nbconvert_exporter": "python",
   "pygments_lexer": "ipython3",
   "version": "3.8.13"
  }
 },
 "nbformat": 4,
 "nbformat_minor": 5
}
